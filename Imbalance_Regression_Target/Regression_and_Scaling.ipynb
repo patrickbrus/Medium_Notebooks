{
 "cells": [
  {
   "cell_type": "code",
   "execution_count": 1,
   "id": "chemical-commitment",
   "metadata": {},
   "outputs": [],
   "source": [
    "import numpy as np\n",
    "import pandas as pd\n",
    "import matplotlib.pyplot as plt\n",
    "%matplotlib inline\n",
    "plt.rcParams['figure.figsize'] = (10.0, 8.0) # set default size of plots\n",
    "plt.rcParams['image.interpolation'] = 'nearest'\n",
    "plt.rcParams['image.cmap'] = 'gray'"
   ]
  },
  {
   "cell_type": "code",
   "execution_count": 2,
   "id": "toxic-conditions",
   "metadata": {},
   "outputs": [],
   "source": [
    "# load the boston data set\n",
    "from sklearn.datasets import load_boston\n",
    "\n",
    "boston = load_boston()\n",
    "data = np.concatenate([boston.data, np.expand_dims(boston.target, axis=-1)], axis=1)\n",
    "df = pd.DataFrame(data=data, columns=[*list(boston.feature_names), \"MEDV\"])"
   ]
  },
  {
   "cell_type": "code",
   "execution_count": 3,
   "id": "dress-novel",
   "metadata": {},
   "outputs": [
    {
     "data": {
      "text/html": [
       "<div>\n",
       "<style scoped>\n",
       "    .dataframe tbody tr th:only-of-type {\n",
       "        vertical-align: middle;\n",
       "    }\n",
       "\n",
       "    .dataframe tbody tr th {\n",
       "        vertical-align: top;\n",
       "    }\n",
       "\n",
       "    .dataframe thead th {\n",
       "        text-align: right;\n",
       "    }\n",
       "</style>\n",
       "<table border=\"1\" class=\"dataframe\">\n",
       "  <thead>\n",
       "    <tr style=\"text-align: right;\">\n",
       "      <th></th>\n",
       "      <th>CRIM</th>\n",
       "      <th>ZN</th>\n",
       "      <th>INDUS</th>\n",
       "      <th>CHAS</th>\n",
       "      <th>NOX</th>\n",
       "      <th>RM</th>\n",
       "      <th>AGE</th>\n",
       "      <th>DIS</th>\n",
       "      <th>RAD</th>\n",
       "      <th>TAX</th>\n",
       "      <th>PTRATIO</th>\n",
       "      <th>B</th>\n",
       "      <th>LSTAT</th>\n",
       "      <th>MEDV</th>\n",
       "    </tr>\n",
       "  </thead>\n",
       "  <tbody>\n",
       "    <tr>\n",
       "      <th>0</th>\n",
       "      <td>0.00632</td>\n",
       "      <td>18.0</td>\n",
       "      <td>2.31</td>\n",
       "      <td>0.0</td>\n",
       "      <td>0.538</td>\n",
       "      <td>6.575</td>\n",
       "      <td>65.2</td>\n",
       "      <td>4.0900</td>\n",
       "      <td>1.0</td>\n",
       "      <td>296.0</td>\n",
       "      <td>15.3</td>\n",
       "      <td>396.90</td>\n",
       "      <td>4.98</td>\n",
       "      <td>24.0</td>\n",
       "    </tr>\n",
       "    <tr>\n",
       "      <th>1</th>\n",
       "      <td>0.02731</td>\n",
       "      <td>0.0</td>\n",
       "      <td>7.07</td>\n",
       "      <td>0.0</td>\n",
       "      <td>0.469</td>\n",
       "      <td>6.421</td>\n",
       "      <td>78.9</td>\n",
       "      <td>4.9671</td>\n",
       "      <td>2.0</td>\n",
       "      <td>242.0</td>\n",
       "      <td>17.8</td>\n",
       "      <td>396.90</td>\n",
       "      <td>9.14</td>\n",
       "      <td>21.6</td>\n",
       "    </tr>\n",
       "    <tr>\n",
       "      <th>2</th>\n",
       "      <td>0.02729</td>\n",
       "      <td>0.0</td>\n",
       "      <td>7.07</td>\n",
       "      <td>0.0</td>\n",
       "      <td>0.469</td>\n",
       "      <td>7.185</td>\n",
       "      <td>61.1</td>\n",
       "      <td>4.9671</td>\n",
       "      <td>2.0</td>\n",
       "      <td>242.0</td>\n",
       "      <td>17.8</td>\n",
       "      <td>392.83</td>\n",
       "      <td>4.03</td>\n",
       "      <td>34.7</td>\n",
       "    </tr>\n",
       "    <tr>\n",
       "      <th>3</th>\n",
       "      <td>0.03237</td>\n",
       "      <td>0.0</td>\n",
       "      <td>2.18</td>\n",
       "      <td>0.0</td>\n",
       "      <td>0.458</td>\n",
       "      <td>6.998</td>\n",
       "      <td>45.8</td>\n",
       "      <td>6.0622</td>\n",
       "      <td>3.0</td>\n",
       "      <td>222.0</td>\n",
       "      <td>18.7</td>\n",
       "      <td>394.63</td>\n",
       "      <td>2.94</td>\n",
       "      <td>33.4</td>\n",
       "    </tr>\n",
       "    <tr>\n",
       "      <th>4</th>\n",
       "      <td>0.06905</td>\n",
       "      <td>0.0</td>\n",
       "      <td>2.18</td>\n",
       "      <td>0.0</td>\n",
       "      <td>0.458</td>\n",
       "      <td>7.147</td>\n",
       "      <td>54.2</td>\n",
       "      <td>6.0622</td>\n",
       "      <td>3.0</td>\n",
       "      <td>222.0</td>\n",
       "      <td>18.7</td>\n",
       "      <td>396.90</td>\n",
       "      <td>5.33</td>\n",
       "      <td>36.2</td>\n",
       "    </tr>\n",
       "  </tbody>\n",
       "</table>\n",
       "</div>"
      ],
      "text/plain": [
       "      CRIM    ZN  INDUS  CHAS    NOX     RM   AGE     DIS  RAD    TAX  \\\n",
       "0  0.00632  18.0   2.31   0.0  0.538  6.575  65.2  4.0900  1.0  296.0   \n",
       "1  0.02731   0.0   7.07   0.0  0.469  6.421  78.9  4.9671  2.0  242.0   \n",
       "2  0.02729   0.0   7.07   0.0  0.469  7.185  61.1  4.9671  2.0  242.0   \n",
       "3  0.03237   0.0   2.18   0.0  0.458  6.998  45.8  6.0622  3.0  222.0   \n",
       "4  0.06905   0.0   2.18   0.0  0.458  7.147  54.2  6.0622  3.0  222.0   \n",
       "\n",
       "   PTRATIO       B  LSTAT  MEDV  \n",
       "0     15.3  396.90   4.98  24.0  \n",
       "1     17.8  396.90   9.14  21.6  \n",
       "2     17.8  392.83   4.03  34.7  \n",
       "3     18.7  394.63   2.94  33.4  \n",
       "4     18.7  396.90   5.33  36.2  "
      ]
     },
     "execution_count": 3,
     "metadata": {},
     "output_type": "execute_result"
    }
   ],
   "source": [
    "df.head()"
   ]
  },
  {
   "cell_type": "code",
   "execution_count": 4,
   "id": "uniform-spokesman",
   "metadata": {},
   "outputs": [
    {
     "name": "stdout",
     "output_type": "stream",
     "text": [
      "<class 'pandas.core.frame.DataFrame'>\n",
      "RangeIndex: 506 entries, 0 to 505\n",
      "Data columns (total 14 columns):\n",
      " #   Column   Non-Null Count  Dtype  \n",
      "---  ------   --------------  -----  \n",
      " 0   CRIM     506 non-null    float64\n",
      " 1   ZN       506 non-null    float64\n",
      " 2   INDUS    506 non-null    float64\n",
      " 3   CHAS     506 non-null    float64\n",
      " 4   NOX      506 non-null    float64\n",
      " 5   RM       506 non-null    float64\n",
      " 6   AGE      506 non-null    float64\n",
      " 7   DIS      506 non-null    float64\n",
      " 8   RAD      506 non-null    float64\n",
      " 9   TAX      506 non-null    float64\n",
      " 10  PTRATIO  506 non-null    float64\n",
      " 11  B        506 non-null    float64\n",
      " 12  LSTAT    506 non-null    float64\n",
      " 13  MEDV     506 non-null    float64\n",
      "dtypes: float64(14)\n",
      "memory usage: 55.5 KB\n"
     ]
    }
   ],
   "source": [
    "# get first insights\n",
    "df.info()"
   ]
  },
  {
   "cell_type": "markdown",
   "id": "unlike-copyright",
   "metadata": {},
   "source": [
    "# Plot Histogram of Target and Transformations"
   ]
  },
  {
   "cell_type": "code",
   "execution_count": 5,
   "id": "final-submission",
   "metadata": {},
   "outputs": [],
   "source": [
    "y = df[\"MEDV\"].to_numpy()"
   ]
  },
  {
   "cell_type": "code",
   "execution_count": 6,
   "id": "lesbian-african",
   "metadata": {},
   "outputs": [
    {
     "data": {
      "image/png": "[encoded data removed]",
      "text/plain": [
       "<Figure size 720x576 with 1 Axes>"
      ]
     },
     "metadata": {
      "needs_background": "light"
     },
     "output_type": "display_data"
    }
   ],
   "source": [
    "plt.hist(y)\n",
    "plt.title(\"Histogram of original target\", size=17)\n",
    "plt.xlabel(\"Median value of owner-occupied homes in $1000’s\", size=13)\n",
    "plt.ylabel(\"Frequencies\", size=13)\n",
    "plt.show()"
   ]
  },
  {
   "cell_type": "code",
   "execution_count": 7,
   "id": "respective-lingerie",
   "metadata": {},
   "outputs": [
    {
     "name": "stdout",
     "output_type": "stream",
     "text": [
      "1.7583188871696095e-20\n"
     ]
    }
   ],
   "source": [
    "from scipy import stats\n",
    "\n",
    "_, p = stats.normaltest(y)\n",
    "print(p)"
   ]
  },
  {
   "cell_type": "markdown",
   "id": "undefined-hollow",
   "metadata": {},
   "source": [
    "## Apply Square Root Scaling"
   ]
  },
  {
   "cell_type": "code",
   "execution_count": 8,
   "id": "sharing-snake",
   "metadata": {},
   "outputs": [],
   "source": [
    "y_sqrt = np.sqrt(y)"
   ]
  },
  {
   "cell_type": "code",
   "execution_count": 9,
   "id": "cathedral-appearance",
   "metadata": {},
   "outputs": [
    {
     "data": {
      "image/png": "[encoded data removed]",
      "text/plain": [
       "<Figure size 720x576 with 1 Axes>"
      ]
     },
     "metadata": {
      "needs_background": "light"
     },
     "output_type": "display_data"
    }
   ],
   "source": [
    "plt.hist(y_sqrt)\n",
    "plt.title(\"Histogram of square root transformed target\", size=17)\n",
    "plt.xlabel(\"Median value of owner-occupied homes in $1000’s\", size=13)\n",
    "plt.ylabel(\"Frequencies\", size=13)\n",
    "plt.show()"
   ]
  },
  {
   "cell_type": "code",
   "execution_count": 10,
   "id": "christian-invention",
   "metadata": {},
   "outputs": [
    {
     "name": "stdout",
     "output_type": "stream",
     "text": [
      "3.558645701429252e-05\n"
     ]
    }
   ],
   "source": [
    "from scipy import stats\n",
    "\n",
    "_, p = stats.normaltest(y_sqrt)\n",
    "print(p)"
   ]
  },
  {
   "cell_type": "markdown",
   "id": "harmful-canada",
   "metadata": {},
   "source": [
    "## Apply log Scaling"
   ]
  },
  {
   "cell_type": "code",
   "execution_count": 11,
   "id": "unlikely-circus",
   "metadata": {},
   "outputs": [],
   "source": [
    "y_log = np.log(y)"
   ]
  },
  {
   "cell_type": "code",
   "execution_count": 12,
   "id": "threaded-discussion",
   "metadata": {},
   "outputs": [
    {
     "data": {
      "image/png": "[encoded data removed]",
      "text/plain": [
       "<Figure size 720x576 with 1 Axes>"
      ]
     },
     "metadata": {
      "needs_background": "light"
     },
     "output_type": "display_data"
    }
   ],
   "source": [
    "plt.hist(y_log)\n",
    "plt.title(\"Histogram of log transformed target\", size=17)\n",
    "plt.xlabel(\"Median value of owner-occupied homes in $1000’s\", size=13)\n",
    "plt.ylabel(\"Frequencies\", size=13)\n",
    "plt.show()"
   ]
  },
  {
   "cell_type": "code",
   "execution_count": 13,
   "id": "operational-brighton",
   "metadata": {},
   "outputs": [
    {
     "name": "stdout",
     "output_type": "stream",
     "text": [
      "0.00018245472768345196\n"
     ]
    }
   ],
   "source": [
    "from scipy import stats\n",
    "\n",
    "_, p = stats.normaltest(y_log)\n",
    "print(p)"
   ]
  },
  {
   "cell_type": "markdown",
   "id": "major-keyboard",
   "metadata": {},
   "source": [
    "## Apply Box Cox Scaling"
   ]
  },
  {
   "cell_type": "code",
   "execution_count": 14,
   "id": "returning-commodity",
   "metadata": {},
   "outputs": [],
   "source": [
    "from scipy import stats\n",
    "y_bc, lambda_bc = stats.boxcox(y)"
   ]
  },
  {
   "cell_type": "code",
   "execution_count": 15,
   "id": "beneficial-vintage",
   "metadata": {},
   "outputs": [
    {
     "data": {
      "image/png": "[encoded data removed]",
      "text/plain": [
       "<Figure size 720x576 with 1 Axes>"
      ]
     },
     "metadata": {
      "needs_background": "light"
     },
     "output_type": "display_data"
    }
   ],
   "source": [
    "plt.hist(y_bc)\n",
    "plt.title(\"Histogram of box cox transformed target\", size=17)\n",
    "plt.xlabel(\"Median value of owner-occupied homes in $1000’s\", size=13)\n",
    "plt.ylabel(\"Frequencies\", size=13)\n",
    "plt.show()"
   ]
  },
  {
   "cell_type": "code",
   "execution_count": 16,
   "id": "banned-turkey",
   "metadata": {},
   "outputs": [
    {
     "name": "stdout",
     "output_type": "stream",
     "text": [
      "0.1046886692817602\n"
     ]
    }
   ],
   "source": [
    "from scipy import stats\n",
    "\n",
    "_, p = stats.normaltest(y_bc)\n",
    "print(p)"
   ]
  },
  {
   "cell_type": "markdown",
   "id": "macro-investing",
   "metadata": {},
   "source": [
    "# Train Linear Regression on different Transformations and No Transformation"
   ]
  },
  {
   "cell_type": "code",
   "execution_count": 17,
   "id": "green-history",
   "metadata": {},
   "outputs": [],
   "source": [
    "from scipy import special\n",
    "from scipy import stats\n",
    "\n",
    "class Transformer():\n",
    "    '''\n",
    "    This class can be used for applying transformations and inverse transformations to the target variable.\n",
    "    Supported transformations:\n",
    "        -> square root\n",
    "        -> log\n",
    "        -> box cox\n",
    "    '''\n",
    "    def __init__(self):\n",
    "        self._lambda = 0 # init lambda -> required for box cox inverse transformation\n",
    "    \n",
    "    def apply_transformation(self, data_in, transform_key):\n",
    "        '''\n",
    "        This function applies the transformation according to transformer_key to the provided input.\n",
    "        \n",
    "        Args:\n",
    "            data_in (np.array): Input data to transform\n",
    "            transform_key (string): Key which transformation to apply (can be: square_root, log, boxcox, no_transformation)\n",
    "        \n",
    "        Returns: \n",
    "            data_transformed (np.array): The transformed data\n",
    "        '''\n",
    "        if transform_key == \"no_transformation\":\n",
    "            data_transformed = data_in\n",
    "        elif transform_key == \"square_root\":\n",
    "            data_transformed = np.sqrt(data_in)\n",
    "        elif transform_key == \"log\":\n",
    "            data_transformed = np.log(data_in)\n",
    "        elif transform_key == \"boxcox\":\n",
    "            data_transformed, self._lambda = stats.boxcox(data_in)\n",
    "        else:\n",
    "            raise ValueError(f\"{transform_key} is an invalid option!\")\n",
    "        \n",
    "        return data_transformed\n",
    "    \n",
    "    def apply_inverse_transformation(self, data_in, transform_key):\n",
    "        '''\n",
    "        This function applies the inverse transformation according to transformer_key to the provided input.\n",
    "        \n",
    "        Args:\n",
    "            data_in (np.array): Input data to transform\n",
    "            transform_key (string): Key which transformation to apply (can be: square_root, log, boxcox, no_transformation)\n",
    "        \n",
    "        Returns: \n",
    "            data_transformed (np.array): The transformed data\n",
    "        '''\n",
    "        if transform_key == \"no_transformation\":\n",
    "            data_transformed = data_in\n",
    "        elif transform_key == \"square_root\":\n",
    "            data_transformed = data_in**2\n",
    "        elif transform_key == \"log\":\n",
    "            data_transformed = np.exp(data_in)\n",
    "        elif transform_key == \"boxcox\":\n",
    "            data_transformed = special.inv_boxcox(data_in, self._lambda)\n",
    "        else:\n",
    "            raise ValueError(f\"{transform_key} is an invalid option!\")\n",
    "        \n",
    "        return data_transformed"
   ]
  },
  {
   "cell_type": "code",
   "execution_count": 23,
   "id": "opening-capture",
   "metadata": {},
   "outputs": [],
   "source": [
    "from sklearn.linear_model import LinearRegression\n",
    "from sklearn.model_selection import train_test_split\n",
    "from sklearn.preprocessing import StandardScaler\n",
    "from sklearn.metrics import r2_score, mean_squared_error\n",
    "\n",
    "# iterate over different transformations and train model plus get error\n",
    "transformations_list = [\n",
    "    \"no_transformation\",\n",
    "    \"square_root\",\n",
    "    \"log\",\n",
    "    \"boxcox\"\n",
    "]\n",
    "\n",
    "X = df.drop(columns=\"MEDV\").to_numpy()\n",
    "y = df[\"MEDV\"].to_numpy()\n",
    "\n",
    "# get train and test data\n",
    "X_train, X_test, y_train, y_test = train_test_split(X, y, test_size=0.3, random_state=42)\n",
    "\n",
    "# use StandardScaler to scale training data and test data\n",
    "scaler = StandardScaler()\n",
    "X_train = scaler.fit_transform(X_train)\n",
    "X_test = scaler.transform(X_test)\n",
    "\n",
    "\n",
    "results_dict = {}\n",
    "for transformation in transformations_list:\n",
    "    \n",
    "    transformer = Transformer()\n",
    "    \n",
    "    y_train_transformed = transformer.apply_transformation(y_train, transformation)\n",
    "    \n",
    "    # create linear regression model and train\n",
    "    reg = LinearRegression().fit(X_train, y_train_transformed)\n",
    "    \n",
    "    # create predictions on test set\n",
    "    preds = reg.predict(X_test)\n",
    "    \n",
    "    # transform back\n",
    "    preds = transformer.apply_inverse_transformation(preds, transformation)\n",
    "    \n",
    "    # get mse and r2\n",
    "    r2 = r2_score(y_test, preds)\n",
    "    mse = mean_squared_error(y_test, preds)\n",
    "    \n",
    "    # store in results dict\n",
    "    results_dict[transformation] = [r2, mse]\n",
    "\n",
    "df_results = pd.DataFrame.from_dict(results_dict, orient=\"index\", columns=[\"R2-Score\", \"MSE\"])"
   ]
  },
  {
   "cell_type": "code",
   "execution_count": 24,
   "id": "accepting-punishment",
   "metadata": {},
   "outputs": [
    {
     "data": {
      "text/html": [
       "<div>\n",
       "<style scoped>\n",
       "    .dataframe tbody tr th:only-of-type {\n",
       "        vertical-align: middle;\n",
       "    }\n",
       "\n",
       "    .dataframe tbody tr th {\n",
       "        vertical-align: top;\n",
       "    }\n",
       "\n",
       "    .dataframe thead th {\n",
       "        text-align: right;\n",
       "    }\n",
       "</style>\n",
       "<table border=\"1\" class=\"dataframe\">\n",
       "  <thead>\n",
       "    <tr style=\"text-align: right;\">\n",
       "      <th></th>\n",
       "      <th>R2-Score</th>\n",
       "      <th>MSE</th>\n",
       "    </tr>\n",
       "  </thead>\n",
       "  <tbody>\n",
       "    <tr>\n",
       "      <th>no_transformation</th>\n",
       "      <td>0.711226</td>\n",
       "      <td>21.517444</td>\n",
       "    </tr>\n",
       "    <tr>\n",
       "      <th>square_root</th>\n",
       "      <td>0.765309</td>\n",
       "      <td>17.487534</td>\n",
       "    </tr>\n",
       "    <tr>\n",
       "      <th>log</th>\n",
       "      <td>0.777928</td>\n",
       "      <td>16.547235</td>\n",
       "    </tr>\n",
       "    <tr>\n",
       "      <th>boxcox</th>\n",
       "      <td>0.773896</td>\n",
       "      <td>16.847673</td>\n",
       "    </tr>\n",
       "  </tbody>\n",
       "</table>\n",
       "</div>"
      ],
      "text/plain": [
       "                   R2-Score        MSE\n",
       "no_transformation  0.711226  21.517444\n",
       "square_root        0.765309  17.487534\n",
       "log                0.777928  16.547235\n",
       "boxcox             0.773896  16.847673"
      ]
     },
     "execution_count": 24,
     "metadata": {},
     "output_type": "execute_result"
    }
   ],
   "source": [
    "df_results"
   ]
  },
  {
   "cell_type": "code",
   "execution_count": null,
   "id": "proprietary-emphasis",
   "metadata": {},
   "outputs": [],
   "source": []
  }
 ],
 "metadata": {
  "kernelspec": {
   "display_name": "Python 3",
   "language": "python",
   "name": "python3"
  },
  "language_info": {
   "codemirror_mode": {
    "name": "ipython",
    "version": 3
   },
   "file_extension": ".py",
   "mimetype": "text/x-python",
   "name": "python",
   "nbconvert_exporter": "python",
   "pygments_lexer": "ipython3",
   "version": "3.7.9"
  }
 },
 "nbformat": 4,
 "nbformat_minor": 5
}
